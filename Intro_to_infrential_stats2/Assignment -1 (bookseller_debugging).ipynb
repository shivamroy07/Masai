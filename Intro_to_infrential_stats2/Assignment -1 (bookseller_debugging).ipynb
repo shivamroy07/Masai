{
 "cells": [
  {
   "cell_type": "code",
   "execution_count": 1,
   "id": "123075a6",
   "metadata": {},
   "outputs": [
    {
     "data": {
      "text/plain": [
       "(   S.No        Date  Number of Books Sold\n",
       " 0     1  01-01-2020                    90\n",
       " 1     2  02-01-2020                   100\n",
       " 2     3  03-01-2020                   100\n",
       " 3     4  04-01-2020                    97\n",
       " 4     5  05-01-2020                    93,\n",
       "    Bug ID  Time Taken to fix the bug\n",
       " 0   12986                       2.42\n",
       " 1   12987                       2.03\n",
       " 2   12988                       2.74\n",
       " 3   12989                       3.21\n",
       " 4   12990                       3.40)"
      ]
     },
     "execution_count": 1,
     "metadata": {},
     "output_type": "execute_result"
    }
   ],
   "source": [
    "\n",
    "import pandas as pd\n",
    "import numpy as np\n",
    "import matplotlib.pyplot as plt\n",
    "import seaborn as sns\n",
    "from scipy import stats\n",
    "\n",
    "# Loading datasets\n",
    "bookseller_df = pd.read_csv('bookseller.csv')\n",
    "debugging_df = pd.read_csv('debugging.csv')\n",
    "\n",
    "bookseller_df.head(), debugging_df.head()\n"
   ]
  },
  {
   "cell_type": "markdown",
   "id": "fcec18f8",
   "metadata": {},
   "source": [
    "\n",
    "## Analysis of Bookseller Data\n",
    "\n",
    "1. **Descriptive Statistics**: We start by analyzing the distribution of `Number of Books Sold`.\n",
    "2. **Inferential Analysis**: Perform t-tests to check hypotheses related to average sales.\n"
   ]
  },
  {
   "cell_type": "code",
   "execution_count": 2,
   "id": "1ad55440",
   "metadata": {},
   "outputs": [
    {
     "name": "stdout",
     "output_type": "stream",
     "text": [
      "Descriptive Statistics for Number of Books Sold:\n",
      "count    366.000000\n",
      "mean      94.961749\n",
      "std        3.178465\n",
      "min       90.000000\n",
      "25%       92.000000\n",
      "50%       95.000000\n",
      "75%       98.000000\n",
      "max      100.000000\n",
      "Name: Number of Books Sold, dtype: float64\n",
      "\n",
      "One Sample t-test results:\n",
      "T-statistic: -0.23023428813896255, P-value: 0.8180386995785215\n"
     ]
    }
   ],
   "source": [
    "\n",
    "# Descriptive statistics for Bookseller data\n",
    "bookseller_stats = bookseller_df['Number of Books Sold'].describe()\n",
    "print(\"Descriptive Statistics for Number of Books Sold:\")\n",
    "print(bookseller_stats)\n",
    "\n",
    "# Hypothesis Testing - One Sample t-test against a hypothetical mean (e.g., 95 books sold)\n",
    "t_stat, p_val = stats.ttest_1samp(bookseller_df['Number of Books Sold'], 95)\n",
    "print(\"\\nOne Sample t-test results:\")\n",
    "print(f\"T-statistic: {t_stat}, P-value: {p_val}\")\n"
   ]
  },
  {
   "cell_type": "markdown",
   "id": "bd8007b9",
   "metadata": {},
   "source": [
    "\n",
    "## Analysis of Debugging Data\n",
    "\n",
    "1. **Descriptive Statistics**: Analyze the time taken to fix bugs.\n",
    "2. **Inferential Analysis**: Perform t-tests to evaluate debugging times.\n"
   ]
  },
  {
   "cell_type": "code",
   "execution_count": 3,
   "id": "e76ca6d0",
   "metadata": {},
   "outputs": [
    {
     "name": "stdout",
     "output_type": "stream",
     "text": [
      "Descriptive Statistics for Time Taken to Fix Bugs:\n",
      "count    2098.000000\n",
      "mean        3.012531\n",
      "std         1.147148\n",
      "min         1.010000\n",
      "25%         2.010000\n",
      "50%         3.005000\n",
      "75%         4.030000\n",
      "max         5.000000\n",
      "Name: Time Taken to fix the bug, dtype: float64\n",
      "\n",
      "One Sample t-test for debugging times:\n",
      "T-statistic: 20.46460352859365, P-value: 5.205283711498065e-85\n"
     ]
    }
   ],
   "source": [
    "\n",
    "# Descriptive statistics for Debugging data\n",
    "debugging_stats = debugging_df['Time Taken to fix the bug'].describe()\n",
    "print(\"Descriptive Statistics for Time Taken to Fix Bugs:\")\n",
    "print(debugging_stats)\n",
    "\n",
    "# Hypothesis Testing - One Sample t-test against a hypothetical mean time (e.g., 2.5 hours)\n",
    "t_stat_debug, p_val_debug = stats.ttest_1samp(debugging_df['Time Taken to fix the bug'], 2.5)\n",
    "print(\"\\nOne Sample t-test for debugging times:\")\n",
    "print(f\"T-statistic: {t_stat_debug}, P-value: {p_val_debug}\")\n"
   ]
  },
  {
   "cell_type": "code",
   "execution_count": null,
   "id": "6abc29d0-6e52-4a37-a48f-8a09fb657280",
   "metadata": {},
   "outputs": [],
   "source": []
  },
  {
   "cell_type": "code",
   "execution_count": null,
   "id": "18acac7a-4b6d-4785-930d-fbfc241a59b8",
   "metadata": {},
   "outputs": [],
   "source": []
  }
 ],
 "metadata": {
  "kernelspec": {
   "display_name": "Python 3 (ipykernel)",
   "language": "python",
   "name": "python3"
  },
  "language_info": {
   "codemirror_mode": {
    "name": "ipython",
    "version": 3
   },
   "file_extension": ".py",
   "mimetype": "text/x-python",
   "name": "python",
   "nbconvert_exporter": "python",
   "pygments_lexer": "ipython3",
   "version": "3.12.7"
  }
 },
 "nbformat": 4,
 "nbformat_minor": 5
}
