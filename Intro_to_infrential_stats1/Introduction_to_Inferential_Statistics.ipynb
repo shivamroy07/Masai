{
 "cells": [
  {
   "cell_type": "code",
   "execution_count": 8,
   "id": "4cbdfb47-e289-4ded-acf1-a4b880344ed2",
   "metadata": {},
   "outputs": [],
   "source": [
    "#Importing Necessary Libraries\n",
    "import pandas as pd\n",
    "import numpy as np\n",
    "import matplotlib.pyplot as plt\n",
    "import scipy.stats as stats"
   ]
  },
  {
   "cell_type": "markdown",
   "id": "b033c794-6973-4ecd-9860-d77677acefb7",
   "metadata": {},
   "source": [
    "## Binomial Distribution\n",
    "### Problem statement\n",
    "### 80% of all the visitors to Lavista Museum end up buying souvenirs from the souvenir shop at the Museum. On the coming Sunday, if a random sample of 10 visitors is picked:\n",
    "#### 1. Find the probability that every visitor will end up buying from the souvenir shop\n",
    "#### 2. Find the probability that a maximum of 7 visitors will buy souvenirs from the souvenir shop\n",
    "### Let's check first whether we satisfy the assumptions of the binomial distribution.\n",
    "* There are only two possible outcomes (success or failure) for each trial. A visitor will buy souvenirs from the souvenir shop or not (yes or no).\n",
    "* Number of trials (n) is fixed - There are IO visitors in the sample.\n",
    "* Each trial is independent of the other trials - It is reasonable to assume that the buying activity of visitors is independent.\n",
    "  \n",
    "### The probability of success (p) is the same for each trial - The probability of success for each visitor is 0.8."
   ]
  },
  {
   "cell_type": "code",
   "execution_count": 9,
   "id": "cd31a538-c456-48ea-ba64-f38d273e9031",
   "metadata": {},
   "outputs": [
    {
     "name": "stdout",
     "output_type": "stream",
     "text": [
      "Probability that every visitor buys a souvenir: 0.10737\n",
      "\n",
      "Probability that a maximum of 7 visitors buy souvenirs: 0.32220\n"
     ]
    }
   ],
   "source": [
    "# Binomial Distributon\n",
    "# Given data\n",
    "n = 10  # Number of trials\n",
    "p = 0.8  # Probability of success (buying souvenir)\n",
    "\n",
    "#1. Probability that every visitor buys a souvenir (X = 10)\n",
    "prob_all_buy = stats.binom.pmf(10, n, p)\n",
    "print(f\"Probability that every visitor buys a souvenir: {prob_all_buy:.5f}\\n\")\n",
    "\n",
    "#2. Probability that a maximum of 7 visitors buy souvenirs (X <= 7)\n",
    "prob_max_7_buy = stats.binom.cdf(7, n, p)\n",
    "print(f\"Probability that a maximum of 7 visitors buy souvenirs: {prob_max_7_buy:.5f}\")\n"
   ]
  },
  {
   "cell_type": "markdown",
   "id": "e8cef183-ec6b-495e-afd7-c330591c6162",
   "metadata": {},
   "source": [
    "### Continuous Uniform Distribution\n",
    "### Problem statement\n",
    "#### IT industry records the amount of time a software engineer needs to fix a bug in the initial phase of software development in 'debugging.csv•.\n",
    "#### Let\n",
    "#### X = Time needed to fix bugs\n",
    "\n",
    "#### X is a continuous random variable. Let's see the distribution of X and answer the below questions.\n",
    "* 1. Find the probability that a randomly selected software debugging requires less than three\n",
    "hours\n",
    "* 2. Find the probability that a randomly selected software debugging requires more than two\n",
    "hours\n",
    "* 3. Find the 50th percentile of the software debugging time"
   ]
  },
  {
   "cell_type": "code",
   "execution_count": 10,
   "id": "8dc1523f-8934-4a5a-b4e8-a316b8cdc948",
   "metadata": {},
   "outputs": [
    {
     "data": {
      "text/plain": [
       "<bound method NDFrame.head of       Bug ID  Time Taken to fix the bug\n",
       "0      12986                       2.42\n",
       "1      12987                       2.03\n",
       "2      12988                       2.74\n",
       "3      12989                       3.21\n",
       "4      12990                       3.40\n",
       "...      ...                        ...\n",
       "2093   15079                       4.17\n",
       "2094   15080                       1.05\n",
       "2095   15081                       2.50\n",
       "2096   15082                       2.85\n",
       "2097   15083                       2.64\n",
       "\n",
       "[2098 rows x 2 columns]>"
      ]
     },
     "execution_count": 10,
     "metadata": {},
     "output_type": "execute_result"
    }
   ],
   "source": [
    "# Continuous Uniform Distribution\n",
    "#Importing the dataset and displaying\n",
    "debug=pd.read_csv(\"debugging.csv\")\n",
    "debug.head"
   ]
  },
  {
   "cell_type": "code",
   "execution_count": 11,
   "id": "27fb950d-cc63-4bd2-8ec9-f3b01e0182a0",
   "metadata": {},
   "outputs": [
    {
     "name": "stdout",
     "output_type": "stream",
     "text": [
      "Probability that debugging takes less than 3 hours: 0.49875\n",
      "\n",
      "Probability that debugging takes more than 2 hours: 0.75188\n",
      "\n",
      "50th percentile of debugging time: 3.00500\n",
      "\n"
     ]
    }
   ],
   "source": [
    "# Extract debugging times (assuming the column is named 'Time')\n",
    "debugging_times = debug['Time Taken to fix the bug']\n",
    "\n",
    "# Get the minimum and maximum times for uniform distribution parameters\n",
    "a = debugging_times.min()\n",
    "b = debugging_times.max()\n",
    "\n",
    "# 1. Probability that debugging takes less than 3 hours (P(X < 3))\n",
    "prob_less_than_3 = stats.uniform.cdf(3, loc=a, scale=b-a)\n",
    "print(f\"Probability that debugging takes less than 3 hours: {prob_less_than_3:.5f}\\n\")\n",
    "\n",
    "# 2. Probability that debugging takes more than 2 hours (P(X > 2))\n",
    "prob_more_than_2 = 1 - stats.uniform.cdf(2, loc=a, scale=b-a)\n",
    "print(f\"Probability that debugging takes more than 2 hours: {prob_more_than_2:.5f}\\n\")\n",
    "\n",
    "# 3. 50th percentile (median of debugging time)\n",
    "percentile_50 = stats.uniform.ppf(0.5, loc=a, scale=b-a)\n",
    "print(f\"50th percentile of debugging time: {percentile_50:.5f}\\n\")"
   ]
  },
  {
   "cell_type": "markdown",
   "id": "f3ae8579-2dcc-4ff1-acff-1d10fa18c3d8",
   "metadata": {},
   "source": [
    "### Normal Distribution\n",
    "### Problem statement\n",
    "#### A testing agency wants to analyze the complexity of SAT Exam 2020. They have collected the SAT scores of 1000 students in \"sat_score.csv\". Let's answer some of the questions that will help to decide the complexity of SAT exam 2020.\n",
    "* 1. Calculate the probability that a student will score less than 800 in SAT exam\n",
    "* 2. Calculate the probability that a student will score more than 1300 in SAT exam\n",
    "* 3. Calculate the minimum marks a student must score in order to secure 90th percentile\n",
    "* 4. Calculate the minimum marks a student must score in order to be in the top 5%"
   ]
  },
  {
   "cell_type": "code",
   "execution_count": 12,
   "id": "26a72db2-689f-4f1e-a96a-cfb5ed664cd2",
   "metadata": {},
   "outputs": [
    {
     "data": {
      "text/html": [
       "<div>\n",
       "<style scoped>\n",
       "    .dataframe tbody tr th:only-of-type {\n",
       "        vertical-align: middle;\n",
       "    }\n",
       "\n",
       "    .dataframe tbody tr th {\n",
       "        vertical-align: top;\n",
       "    }\n",
       "\n",
       "    .dataframe thead th {\n",
       "        text-align: right;\n",
       "    }\n",
       "</style>\n",
       "<table border=\"1\" class=\"dataframe\">\n",
       "  <thead>\n",
       "    <tr style=\"text-align: right;\">\n",
       "      <th></th>\n",
       "      <th>student_id</th>\n",
       "      <th>score</th>\n",
       "    </tr>\n",
       "  </thead>\n",
       "  <tbody>\n",
       "    <tr>\n",
       "      <th>0</th>\n",
       "      <td>1</td>\n",
       "      <td>1018</td>\n",
       "    </tr>\n",
       "    <tr>\n",
       "      <th>1</th>\n",
       "      <td>2</td>\n",
       "      <td>1218</td>\n",
       "    </tr>\n",
       "    <tr>\n",
       "      <th>2</th>\n",
       "      <td>3</td>\n",
       "      <td>611</td>\n",
       "    </tr>\n",
       "    <tr>\n",
       "      <th>3</th>\n",
       "      <td>4</td>\n",
       "      <td>723</td>\n",
       "    </tr>\n",
       "    <tr>\n",
       "      <th>4</th>\n",
       "      <td>5</td>\n",
       "      <td>541</td>\n",
       "    </tr>\n",
       "  </tbody>\n",
       "</table>\n",
       "</div>"
      ],
      "text/plain": [
       "   student_id  score\n",
       "0           1   1018\n",
       "1           2   1218\n",
       "2           3    611\n",
       "3           4    723\n",
       "4           5    541"
      ]
     },
     "execution_count": 12,
     "metadata": {},
     "output_type": "execute_result"
    }
   ],
   "source": [
    "# Normal Distribution \n",
    "# Loading the dataset\n",
    "score = pd.read_csv(\"sat_score.csv\")\n",
    "score.head()"
   ]
  },
  {
   "cell_type": "code",
   "execution_count": 13,
   "id": "818c557b-6557-488a-b23e-25233a3c4b25",
   "metadata": {},
   "outputs": [
    {
     "name": "stdout",
     "output_type": "stream",
     "text": [
      "Probability of scoring less than 800: 0.15497\n",
      "\n",
      "Probability of scoring more than 1300: 0.07611\n",
      "\n",
      "Minimum score to be in the 90th percentile: 1269.31\n",
      "\n",
      "Minimum score to be in the top 5%: 1343.54\n",
      "\n"
     ]
    }
   ],
   "source": [
    "# Extract the SAT scores (assuming the column is named 'Score')\n",
    "sat_scores = score['score']\n",
    "\n",
    "# Calculate the mean and standard deviation of SAT scores\n",
    "mean_score = np.mean(sat_scores)\n",
    "std_dev = np.std(sat_scores)\n",
    "\n",
    "# 1. Probability that a student scores less than 800\n",
    "prob_less_than_800 = stats.norm.cdf(800, loc=mean_score, scale=std_dev)\n",
    "print(f\"Probability of scoring less than 800: {prob_less_than_800:.5f}\\n\")\n",
    "\n",
    "# 2. Probability that a student scores more than 1300\n",
    "prob_more_than_1300 = 1 - stats.norm.cdf(1300, loc=mean_score, scale=std_dev)\n",
    "print(f\"Probability of scoring more than 1300: {prob_more_than_1300:.5f}\\n\")\n",
    "\n",
    "# 3. Minimum marks to secure 90th percentile\n",
    "score_90th_percentile = stats.norm.ppf(0.9, loc=mean_score, scale=std_dev)\n",
    "print(f\"Minimum score to be in the 90th percentile: {score_90th_percentile:.2f}\\n\")\n",
    "\n",
    "# 4. Minimum marks to be in the top 5%\n",
    "score_top_5_percent = stats.norm.ppf(0.95, loc=mean_score, scale=std_dev)\n",
    "print(f\"Minimum score to be in the top 5%: {score_top_5_percent:.2f}\\n\")"
   ]
  },
  {
   "cell_type": "code",
   "execution_count": 14,
   "id": "b6fdea20-2920-4e45-81ed-9e873bef58e7",
   "metadata": {},
   "outputs": [
    {
     "data": {
      "image/png": "[encoded data removed]",
      "text/plain": [
       "<Figure size 800x500 with 1 Axes>"
      ]
     },
     "metadata": {},
     "output_type": "display_data"
    }
   ],
   "source": [
    "# Plotting the SAT score distribution\n",
    "x = np.linspace(min(sat_scores), max(sat_scores), 1000)\n",
    "pdf = stats.norm.pdf(x, loc=mean_score, scale=std_dev)\n",
    "\n",
    "plt.figure(figsize=(8, 5))\n",
    "plt.plot(x, pdf, 'r-', lw=2, label='Normal Distribution PDF')\n",
    "plt.fill_between(x, pdf, color='lightblue', alpha=0.6)\n",
    "plt.title('SAT Score Distribution')\n",
    "plt.xlabel('SAT Score')\n",
    "plt.ylabel('Probability Density')\n",
    "plt.legend()\n",
    "plt.show()"
   ]
  },
  {
   "cell_type": "code",
   "execution_count": null,
   "id": "038f3d16-6744-4ff1-bad7-eabc20116823",
   "metadata": {},
   "outputs": [],
   "source": []
  }
 ],
 "metadata": {
  "kernelspec": {
   "display_name": "Python 3 (ipykernel)",
   "language": "python",
   "name": "python3"
  },
  "language_info": {
   "codemirror_mode": {
    "name": "ipython",
    "version": 3
   },
   "file_extension": ".py",
   "mimetype": "text/x-python",
   "name": "python",
   "nbconvert_exporter": "python",
   "pygments_lexer": "ipython3",
   "version": "3.9.19"
  }
 },
 "nbformat": 4,
 "nbformat_minor": 5
}
