{
 "cells": [
  {
   "cell_type": "code",
   "execution_count": 1,
   "id": "61d01146-bdc6-4899-aad3-afefc7fb719e",
   "metadata": {},
   "outputs": [],
   "source": [
    "#Libraris to help with reading and manipulating data\n",
    "import pandas as pd\n",
    "import numpy as np\n",
    "\n",
    "#Libraries to help with data visualization\n",
    "import matplotlib.pyplot as plt\n",
    "import seaborn as sns\n",
    "\n",
    "#Library to help with statistical analysis\n",
    "import scipy.stats as stats"
   ]
  },
  {
   "cell_type": "markdown",
   "id": "65262f3f-3c40-4776-90c4-e6a3b9328847",
   "metadata": {},
   "source": [
    "## Sampling Distribution\n",
    "\n",
    "### Q1. Suppose an automobile battery manufacturer claims that the mean lifetime of their battery 60 months with a standard deviation of 6 months. Suppose the distribution of battery life is approximately normal. Find the probability that the mean lifetime of 40 randomly sampled batteries will be less than 58 months."
   ]
  },
  {
   "cell_type": "code",
   "execution_count": 2,
   "id": "e11cebd4-0c94-4c5b-933e-9eabefaaa1e2",
   "metadata": {},
   "outputs": [],
   "source": [
    "# Given values\n",
    "mu = 60  # population mean\n",
    "sigma = 6  # population standard deviation\n",
    "n = 40  # sample size\n",
    "x_bar = 58  # sample mean we are comparing"
   ]
  },
  {
   "cell_type": "code",
   "execution_count": 3,
   "id": "65cbb389-b4e6-42d0-9aed-aec1ef61e941",
   "metadata": {},
   "outputs": [],
   "source": [
    "# Standard error of the mean\n",
    "SE = sigma / (n ** 0.5)"
   ]
  },
  {
   "cell_type": "code",
   "execution_count": 4,
   "id": "afef29a4-2fb7-4390-9d4d-6caa50cf62e2",
   "metadata": {},
   "outputs": [],
   "source": [
    "# Z-score calculation\n",
    "Z = (x_bar - mu) / SE"
   ]
  },
  {
   "cell_type": "code",
   "execution_count": 5,
   "id": "1f14ccf0-8588-40a2-aeb0-4923801c14f8",
   "metadata": {},
   "outputs": [
    {
     "name": "stdout",
     "output_type": "stream",
     "text": [
      "The Z-score is : -2.1081851067789197\n",
      "\n",
      "The probability that the mean lifetime of 40 randomly sampled batteries will be less than 58 months is: 0.017507490509831244\n"
     ]
    }
   ],
   "source": [
    "# Probability corresponding to the Z-score\n",
    "probability = stats.norm.cdf(Z)\n",
    "\n",
    "print(f\"The Z-score is : {Z}\\n\")\n",
    "print(f\"The probability that the mean lifetime of 40 randomly sampled batteries will be less than 58 months is: {probability}\") "
   ]
  },
  {
   "cell_type": "markdown",
   "id": "1289ffd6-53b8-4c3b-bcaa-0c52f98e6479",
   "metadata": {},
   "source": [
    "## Interval Estimation\n",
    "\n",
    "### Q2. A random sample of 40 households was selected as part of a study on electricity usage, and the number of kilowatt-hours (kWh) was recorded for each household in the sample for the first quarter of 2020. The average usage was found to be 310 kWh. In a very large study in the first quarter of the previous year, it was found that the standard deviation of the usage was 89 kWh.. Assuming the standard deviation is unchanged and that the usage is normally distributed, provide an expression for calculating a 95% confidence interval for the mean usage in the first quarter of 2019."
   ]
  },
  {
   "cell_type": "code",
   "execution_count": 6,
   "id": "df3c9132-0cac-4d9e-89b5-45fb92e6685f",
   "metadata": {},
   "outputs": [],
   "source": [
    "# Given values\n",
    "x_bar = 310  # sample mean\n",
    "sigma = 89  # population standard deviation\n",
    "n = 40  # sample size\n",
    "z_value = 1.96  # Z-value for 95% confidence"
   ]
  },
  {
   "cell_type": "code",
   "execution_count": 7,
   "id": "e2faef63-9e7c-4dcf-80ac-dda634f819b1",
   "metadata": {},
   "outputs": [],
   "source": [
    "# Standard error of the mean\n",
    "SE = sigma / (n ** 0.5)"
   ]
  },
  {
   "cell_type": "code",
   "execution_count": 8,
   "id": "8c11623e-ebb5-405b-902c-965093b406ff",
   "metadata": {},
   "outputs": [],
   "source": [
    "# Confidence interval calculation\n",
    "lower_bound = x_bar - z_value * SE\n",
    "upper_bound = x_bar + z_value * SE"
   ]
  },
  {
   "cell_type": "code",
   "execution_count": 9,
   "id": "22bc4d90-f93c-4479-b936-33e43c8f49fe",
   "metadata": {},
   "outputs": [
    {
     "name": "stdout",
     "output_type": "stream",
     "text": [
      "The 95% confidence interval for the mean electricity usage in the first quarter of 2019 is (282.4186142480114 kWh,337.5813857519886 kWh). \n",
      "This means we are 95% confident that the true mean usage falls within this range.lower_bound, upper_bound\n"
     ]
    }
   ],
   "source": [
    "\n",
    "print(f\"\"\"The 95% confidence interval for the mean electricity usage in the first quarter of 2019 is ({lower_bound} kWh,{upper_bound} kWh). \n",
    "This means we are 95% confident that the true mean usage falls within this range.lower_bound, upper_bound\"\"\")"
   ]
  },
  {
   "cell_type": "markdown",
   "id": "79030f10-054f-4c99-a4c3-5b54d9d96e1f",
   "metadata": {},
   "source": [
    "## Hypothesis Testing\n",
    "\n",
    "### Q3. You are a manager of a Chinese restaurant. You want to determine whether the mean waiting time to place an order has changed in the past month from its previous population mean value of 4.5 minutes. State the null and alternative hypotheses.\n"
   ]
  },
  {
   "cell_type": "code",
   "execution_count": 10,
   "id": "27c621e3-92ed-4e7a-91fa-bdd5442f0e28",
   "metadata": {},
   "outputs": [],
   "source": [
    "# According to Two-tailed hypothesis test\n",
    "\n",
    "# Null Hypothesis: The mean wating time has not changed from the previous means of 4.5 minutes.\n",
    "# mu=4.5 #(minutes)\n",
    "\n",
    "# Alternate Hypothesis: The mean waiting time has changed from 4.5 minutes\n",
    "# mu!=4.5 #(minutes)"
   ]
  },
  {
   "cell_type": "markdown",
   "id": "d4899d18-a5b2-44e9-95e2-3b2df3af87c5",
   "metadata": {},
   "source": [
    "### Q4. What is the p-value in a two-tailed z-test for one sample, where the computed test statistic (z- stat) is equal to +2.00?\n"
   ]
  },
  {
   "cell_type": "code",
   "execution_count": 11,
   "id": "b6e4d05a-6faf-4d4d-8461-69ad085070d2",
   "metadata": {},
   "outputs": [
    {
     "name": "stdout",
     "output_type": "stream",
     "text": [
      "Cumulative probability: 0.9772498680518208\n",
      "P-value: 0.04550026389635842\n"
     ]
    }
   ],
   "source": [
    "# The p-value in a two-tailed z-test can be found by looking up the probability for the computed Z-statistic \n",
    "# and multiplying it by 2(since its two-tailed test).\n",
    "\n",
    "# Given Z-score for two-tailed test\n",
    "Z_stat = 2.00\n",
    "\n",
    "# Cumulative probability for Z = 2.00\n",
    "cumulative_prob = stats.norm.cdf(Z_stat)\n",
    "\n",
    "# P-value for two-tailed test\n",
    "p_value = 2 * (1 - cumulative_prob)\n",
    "\n",
    "print(f\"Cumulative probability: {cumulative_prob}\")\n",
    "print(f\"P-value: {p_value}\")\n"
   ]
  },
  {
   "cell_type": "markdown",
   "id": "ec60a866-bd70-4572-9282-6fd134b8210a",
   "metadata": {},
   "source": [
    "### Q5. Samy, Product Manager of K2 Jeans, wants to launch a product line into a new market area. A Survey of a random sample of 400 households in that market showed a mean income per household of 30000 rupees. The standard deviation based on an earlier pilot study of households is 8000 rupees. Samy strongly believes the product line will be adequately profitable only in markets where the mean household income is greater than 29000 rupees. Samy wants our help in deciding whether the product line should be introduced in the new market. Perform statistical analysis and based on that draw a conclusion.\n",
    "\n",
    "### Assume a level of significance (a) of 5%"
   ]
  },
  {
   "cell_type": "code",
   "execution_count": 12,
   "id": "01b9b2fa-3ea9-4d81-93a7-9c24a121fd8c",
   "metadata": {},
   "outputs": [],
   "source": [
    "'''\n",
    "Null Hypothesis: The mean household income in the new market is less than or equal to 29,000 rupees.\n",
    "mu<29,000\n",
    "\n",
    "Alternative Hypothesis: The mean household income in the new market is greater than 29,000 rupees.\n",
    "mu>29,000\n",
    "'''\n",
    "\n",
    "# Given values\n",
    "sample_mean = 30000  # sample mean\n",
    "hypothesized_mean = 29000  # hypothesized mean (mu0)\n",
    "sigma = 8000  # population standard deviation\n",
    "n = 400  # sample size\n"
   ]
  },
  {
   "cell_type": "code",
   "execution_count": 13,
   "id": "5f9c5b6f-056c-47d4-90f7-3d3d46539343",
   "metadata": {},
   "outputs": [
    {
     "data": {
      "text/plain": [
       "2.5"
      ]
     },
     "execution_count": 13,
     "metadata": {},
     "output_type": "execute_result"
    }
   ],
   "source": [
    "# Standard error of the mean\n",
    "SE = sigma / (n ** 0.5)\n",
    "\n",
    "# Z-statistic calculation\n",
    "Z_stat = (sample_mean - hypothesized_mean) / SE\n",
    "\n",
    "Z_stat"
   ]
  },
  {
   "cell_type": "code",
   "execution_count": 14,
   "id": "0f8c5afe-9d3c-4c93-b162-1d38c075ec33",
   "metadata": {},
   "outputs": [
    {
     "name": "stdout",
     "output_type": "stream",
     "text": [
      "0.006209665325776159\n",
      "Since the p-value 0.0062 is less than the significance level alpha=0.05,we reject the null hypothesis\n"
     ]
    }
   ],
   "source": [
    "# P-value calculation for one-tailed test\n",
    "p_value = 1 - stats.norm.cdf(Z_stat)\n",
    "\n",
    "print(p_value)\n",
    "print(\"Since the p-value 0.0062 is less than the significance level alpha=0.05,we reject the null hypothesis\")"
   ]
  },
  {
   "cell_type": "code",
   "execution_count": null,
   "id": "6fd8ec9b-788c-4a58-933d-9c54c4c875ff",
   "metadata": {},
   "outputs": [],
   "source": []
  },
  {
   "cell_type": "code",
   "execution_count": null,
   "id": "3b12418b-9c56-4bcb-a7d1-8ec043e29cd8",
   "metadata": {},
   "outputs": [],
   "source": []
  }
 ],
 "metadata": {
  "kernelspec": {
   "display_name": "Python 3 (ipykernel)",
   "language": "python",
   "name": "python3"
  },
  "language_info": {
   "codemirror_mode": {
    "name": "ipython",
    "version": 3
   },
   "file_extension": ".py",
   "mimetype": "text/x-python",
   "name": "python",
   "nbconvert_exporter": "python",
   "pygments_lexer": "ipython3",
   "version": "3.9.19"
  }
 },
 "nbformat": 4,
 "nbformat_minor": 5
}
